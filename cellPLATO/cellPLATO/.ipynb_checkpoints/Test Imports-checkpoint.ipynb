{
 "cells": [
  {
   "cell_type": "code",
   "execution_count": null,
   "id": "cb458893",
   "metadata": {},
   "outputs": [],
   "source": [
    "import cellPLATO"
   ]
  },
  {
   "cell_type": "code",
   "execution_count": null,
   "id": "46475666-da4d-47c0-81be-81809024c06b",
   "metadata": {},
   "outputs": [],
   "source": [
    "import initialization\n",
    "import data_processing as dp\n",
    "import visualization as vis"
   ]
  },
  {
   "cell_type": "code",
   "execution_count": null,
   "id": "f1f4e2af-5820-486f-b24c-bee41a260aec",
   "metadata": {},
   "outputs": [],
   "source": [
    "print(DATA_PATH)"
   ]
  },
  {
   "cell_type": "code",
   "execution_count": null,
   "id": "d2b58751-b9af-4f96-a6da-69ec5434b24d",
   "metadata": {},
   "outputs": [],
   "source": [
    "from initialization import config\n",
    "\n",
    "print(DATA_PATH)"
   ]
  },
  {
   "cell_type": "code",
   "execution_count": null,
   "id": "df55d022-aff1-430e-b5af-3d261c21ebc9",
   "metadata": {},
   "outputs": [],
   "source": [
    "from initialization.config import *"
   ]
  },
  {
   "cell_type": "code",
   "execution_count": null,
   "id": "ce89e5db-904f-46f4-96ce-c833618c9346",
   "metadata": {},
   "outputs": [],
   "source": [
    "print(DATA_PATH)"
   ]
  },
  {
   "cell_type": "code",
   "execution_count": null,
   "id": "b35ca9c6",
   "metadata": {},
   "outputs": [],
   "source": [
    "from initialization.initialization import *"
   ]
  },
  {
   "cell_type": "code",
   "execution_count": null,
   "id": "661f5087-32aa-46cf-866b-5f046f587718",
   "metadata": {},
   "outputs": [],
   "source": [
    "MARGSCAT_DIR"
   ]
  },
  {
   "cell_type": "code",
   "execution_count": null,
   "id": "79b50e09-81e0-46d8-9eec-c37128a529d5",
   "metadata": {},
   "outputs": [],
   "source": []
  },
  {
   "cell_type": "code",
   "execution_count": null,
   "id": "6e495140",
   "metadata": {},
   "outputs": [],
   "source": []
  },
  {
   "cell_type": "code",
   "execution_count": 3,
   "id": "49af4ff6-bdbf-4e19-a30c-76fbb065d041",
   "metadata": {},
   "outputs": [
    {
     "data": {
      "text/plain": [
       "<function data_processing.data_io.load_data(cond, exp, cond_label, rep_label)>"
      ]
     },
     "execution_count": 3,
     "metadata": {},
     "output_type": "execute_result"
    }
   ],
   "source": [
    "data_processing.data_io.load_data"
   ]
  },
  {
   "cell_type": "code",
   "execution_count": 4,
   "id": "7950c07f",
   "metadata": {},
   "outputs": [
    {
     "data": {
      "text/plain": [
       "<function data_processing.data_io.load_data(cond, exp, cond_label, rep_label)>"
      ]
     },
     "execution_count": 4,
     "metadata": {},
     "output_type": "execute_result"
    }
   ],
   "source": [
    "data_processing.load_data"
   ]
  },
  {
   "cell_type": "code",
   "execution_count": 6,
   "id": "6294dc18",
   "metadata": {},
   "outputs": [
    {
     "data": {
      "text/plain": [
       "'Z://Collaboration_data/Mace_Lab/my_generated/cellPLATO(dev)/consistency_test_btrack_v2\\\\2022-07-15_17-31-33-355249\\\\plots/Comparative_analysis/Marginal_scatterplots/'"
      ]
     },
     "execution_count": 6,
     "metadata": {},
     "output_type": "execute_result"
    }
   ],
   "source": [
    "data_processing.MARGSCAT_DIR"
   ]
  },
  {
   "cell_type": "code",
   "execution_count": null,
   "id": "58d987d7",
   "metadata": {},
   "outputs": [],
   "source": []
  }
 ],
 "metadata": {
  "kernelspec": {
   "display_name": "Python 3",
   "language": "python",
   "name": "python3"
  },
  "language_info": {
   "codemirror_mode": {
    "name": "ipython",
    "version": 3
   },
   "file_extension": ".py",
   "mimetype": "text/x-python",
   "name": "python",
   "nbconvert_exporter": "python",
   "pygments_lexer": "ipython3",
   "version": "3.6.13"
  }
 },
 "nbformat": 4,
 "nbformat_minor": 5
}
