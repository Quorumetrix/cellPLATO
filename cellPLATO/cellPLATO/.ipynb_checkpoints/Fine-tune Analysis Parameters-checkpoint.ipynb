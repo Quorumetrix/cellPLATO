{
 "cells": [
  {
   "cell_type": "code",
   "execution_count": null,
   "id": "701c4b62",
   "metadata": {},
   "outputs": [],
   "source": [
    "import cellPLATO as cp\n",
    "\n",
    "import numpy as np\n",
    "import pandas as pd\n",
    "import os\n",
    "import matplotlib.pyplot as plt\n",
    "\n",
    "OVERWRITE_DATAFRAMES = False"
   ]
  },
  {
   "cell_type": "code",
   "execution_count": null,
   "id": "eaf59285",
   "metadata": {},
   "outputs": [],
   "source": [
    "if os.path.exists(cp.SAVED_DATA_PATH + 'dr_df.csv'):\n",
    "\n",
    "    \n",
    "    comb_df = pd.read_csv(cp.SAVED_DATA_PATH + 'comb_df.csv')\n",
    "    dr_df = pd.read_csv(cp.SAVED_DATA_PATH + 'dr_df.csv')\n",
    "    lab_dr_df = pd.read_csv(cp.SAVED_DATA_PATH + 'lab_dr_df.csv')\n",
    "    tavg_df = pd.read_csv(cp.SAVED_DATA_PATH + 'tavg_df.csv')\n",
    "    lab_dr_df\n"
   ]
  },
  {
   "cell_type": "markdown",
   "id": "938f45de",
   "metadata": {},
   "source": [
    "##### Visualize the existing Dimensionaly-Reduced data prior to finetuning the parameters\n"
   ]
  },
  {
   "cell_type": "code",
   "execution_count": null,
   "id": "62f50743",
   "metadata": {},
   "outputs": [],
   "source": [
    "pca_df, components, expl = cp.do_pca(comb_df[cp.DR_FACTORS])\n",
    "f = cp.pca_factor_vis(dr_df,pca_tuple=[pca_df, components, expl])#cp.DR_FACTORS)\n",
    "f = cp.dimension_reduction_subplots(dr_df,pca_tuple=[pca_df, components, expl])\n",
    "f = cp.spatial_img_coloc(dr_df, xy='umap',thresh=10,n_bins=50)"
   ]
  },
  {
   "cell_type": "code",
   "execution_count": null,
   "id": "b39087dc",
   "metadata": {},
   "outputs": [],
   "source": [
    "# f = pca_factor_vis(dr_df,DR_FACTORS)\n",
    "# f=dimension_reduction_subplots(dr_df)\n",
    "# f=spatial_img_coloc(dr_df, xy='umap',thresh=10,n_bins=50)"
   ]
  },
  {
   "cell_type": "code",
   "execution_count": null,
   "id": "a73644a7",
   "metadata": {},
   "outputs": [],
   "source": [
    "f=spatial_img_coloc(lab_dr_df, xy='tSNE',thresh=2,n_bins=50)"
   ]
  },
  {
   "cell_type": "code",
   "execution_count": null,
   "id": "bc8a4d21",
   "metadata": {},
   "outputs": [],
   "source": []
  },
  {
   "cell_type": "markdown",
   "id": "12706b7b",
   "metadata": {},
   "source": [
    "# Filtering upstream of Dimensionality Reduction"
   ]
  },
  {
   "cell_type": "code",
   "execution_count": null,
   "id": "9ab01547",
   "metadata": {},
   "outputs": [],
   "source": [
    "# User-defined filters in dict {factor:(min, max)}\n",
    "data_filters = {\n",
    "#   \"speed\": (10, 100),\n",
    "  \"area\": (0, 10000), # Warning: range will change if self-normalized\n",
    "  \"ntpts\": (0,1000)\n",
    "}\n",
    "\n",
    "# Returns a filtered dataframe, while also adding included column to comb_df\n",
    "filt_df, filt_counts = apply_filters(comb_df,filter_dict=data_filters)\n",
    "\n",
    "fig = visualize_filtering(comb_df, filt_counts)"
   ]
  },
  {
   "cell_type": "code",
   "execution_count": null,
   "id": "c349b7be",
   "metadata": {},
   "outputs": [],
   "source": [
    "# Simultaneously sweep a range of critical parameters for tSNE and UMAP embeddings.\n",
    "cp.sweep_tsne_umap(comb_df, \n",
    "                perp_min_max=(10,300), \n",
    "                nn_min_max=(2, 100),\n",
    "                n_vals=3,\n",
    "                nested_dbscan_sweep=False, \n",
    "                dr_factors=cp.DR_FACTORS, \n",
    "                eps_vals=None)\n"
   ]
  },
  {
   "cell_type": "markdown",
   "id": "fda66ee3",
   "metadata": {},
   "source": [
    "# Dimensionality Reduction: Parameter sweeping and tuning"
   ]
  },
  {
   "cell_type": "code",
   "execution_count": null,
   "id": "b140bf77",
   "metadata": {},
   "outputs": [],
   "source": [
    "# Now re-do the dimensionality reduction with selected parameters:\n",
    "\n",
    "# Replace these values with the ones found from the previous sweep\n",
    "perplexity = cp.TSNE_PERP\n",
    "umap_nn = cp.UMAP_NN\n",
    "min_dist = cp.UMAP_MIN_DIST\n",
    "\n",
    "pca_df, components, expl = cp.do_pca(comb_df[cp.DR_FACTORS])\n",
    "\n",
    "dr_df = cp.dr_pipeline(comb_df, \n",
    "                    dr_factors=cp.DR_FACTORS,\n",
    "                    tsne_perp=perplexity,\n",
    "                    umap_nn=umap_nn,\n",
    "                    min_dist=min_dist) \n",
    "\n",
    "f = cp.pca_factor_vis(dr_df,pca_tuple=[pca_df, components, expl])#cp.DR_FACTORS)\n",
    "f = cp.dimension_reduction_subplots(dr_df,pca_tuple=[pca_df, components, expl])\n",
    "f = cp.spatial_img_coloc(dr_df, xy='umap',thresh=10,n_bins=50)"
   ]
  },
  {
   "cell_type": "markdown",
   "id": "14d8caec",
   "metadata": {},
   "source": [
    "##### Visualizat the Migration and Shape characteristic separately in low-dimensional embeddings"
   ]
  },
  {
   "cell_type": "code",
   "execution_count": null,
   "id": "d4c640d8",
   "metadata": {},
   "outputs": [],
   "source": [
    "'''\n",
    "A great improvement will be to colormap by PC values (triangular)\n",
    "and add make cluster contours for each group.  (hdbscan)\n",
    "'''\n",
    "\n",
    "cp.compare_mig_shape_factors(comb_df,\n",
    "                          dr_factors_mig=cp.MIG_FACTORS,\n",
    "                          dr_factors_shape=cp.REGIONPROPS_LIST, \n",
    "                          dr_factors_all=cp.MIG_FACTORS+cp.REGIONPROPS_LIST+cp.ADDITIONAL_FACTORS\n",
    "                         )\n",
    "                       "
   ]
  },
  {
   "cell_type": "markdown",
   "id": "c8ee9953",
   "metadata": {},
   "source": [
    "##### If hdbscan is not performing well on this data, try using DBscan and sweeping eps values"
   ]
  },
  {
   "cell_type": "code",
   "execution_count": null,
   "id": "e5312bea",
   "metadata": {},
   "outputs": [],
   "source": [
    "\n",
    "# Define the range of eps values to sweep across\n",
    "eps_low = 0.04  # lower value\n",
    "eps_high = 0.07  # upper value\n",
    "eps_n = 10   # how many iterations (how many plots to generate)\n",
    "\n",
    "eps_vals = np.round(np.linspace(eps_low, eps_high, eps_n),3)      \n",
    "\n",
    "methods = ['umap', 'tsne']\n",
    "\n",
    "for dr_method in methods:    \n",
    "    for eps in eps_vals:\n",
    "\n",
    "        lab_dr_df = cp.dbscan_clustering(dr_df,eps=eps,cluster_by=dr_method, plot=False)\n",
    "        print('eps: ', eps, ' clusters: ', len(lab_dr_df['label'].unique()))\n",
    "        fig, (ax1, ax2, ax3) = plt.subplots(nrows=1, ncols=3, figsize=[30,10])\n",
    "        cp.draw_cluster_hulls(lab_dr_df,cluster_by=dr_method, color_by='condition',legend=False,ax=ax1,draw_pts=True,save_path=cp.CLUST_PARAMS_DIR+'condition')\n",
    "        cp.draw_cluster_hulls(lab_dr_df,cluster_by=dr_method, color_by='PCs',ax=ax2,draw_pts=True,save_path=cp.CLUST_PARAMS_DIR+'pca')\n",
    "        cp.draw_cluster_hulls(lab_dr_df,cluster_by=dr_method, color_by='cluster',ax=ax3,draw_pts=True,save_path=cp.CLUST_PARAMS_DIR+'cluster')\n",
    "\n",
    "        fig.show()\n",
    "\n",
    "        if cp.STATIC_PLOTS:\n",
    "            plt.savefig(cp.CLUST_PARAMS_DIR+dr_method+'_sweep_eps_'+str(eps)+'nclusters_'+str(len(lab_dr_df['label'].unique()))+'.png', dpi=300)\n",
    "\n",
    "print('Finished sweeping dbscan clustering. See output directory: ',cp.CLUST_PARAMS_DIR)          \n",
    "            \n",
    "\n"
   ]
  },
  {
   "cell_type": "code",
   "execution_count": null,
   "id": "7f34286f",
   "metadata": {},
   "outputs": [],
   "source": [
    "'''\n",
    "Add here a very clear, intentional step where the lab_dr_df is generated with the\n",
    "parameters sweeped in the notebook above. \n",
    "'''\n",
    "eps = None\n",
    "dr_method = 'umap'\n",
    "\n",
    "if eps is None:\n",
    "    lab_dr_df = cp.hdbscan_clustering(dr_df,cluster_by=dr_method, plot=False)\n",
    "\n",
    "else:\n",
    "        \n",
    "    lab_dr_df = cp.dbscan_clustering(dr_df,eps=eps,cluster_by=dr_method, plot=False)\n",
    "# "
   ]
  },
  {
   "cell_type": "markdown",
   "id": "857daf30",
   "metadata": {},
   "source": [
    "### Filtering downstream of dimensionality reduction"
   ]
  },
  {
   "cell_type": "markdown",
   "id": "5e8135fc",
   "metadata": {},
   "source": [
    "##### Example filtering usage (ALL):\n",
    "    Find cells that maintained a speed between 5-100um/min throughout their trajectory. "
   ]
  },
  {
   "cell_type": "code",
   "execution_count": null,
   "id": "a25170cc",
   "metadata": {},
   "outputs": [],
   "source": [
    "# Filter after dimensionality reduction\n",
    "filters = {\n",
    "#   \"tSNE1\": (-100, 100), \n",
    "#   \"tSNE2\": (-100, 100), \n",
    "#   \"area\": (200, 600), \n",
    "  \"speed\": (5, 100), \n",
    "}\n",
    "\n",
    "# Apply the post-dimensionality reduction filters and visualize the results.\n",
    "filt_dr_df, filt_list = cp.apply_filters(lab_dr_df,how='all', filter_dict=filters) # 'all is default behaviour', can be left out. \n",
    "fig = cp.visualize_filtering(lab_dr_df, filt_list, plot_by='umap')"
   ]
  },
  {
   "cell_type": "code",
   "execution_count": null,
   "id": "1bd303b0",
   "metadata": {},
   "outputs": [],
   "source": [
    "fig = cp.visualize_filtering(lab_dr_df, filt_list)"
   ]
  },
  {
   "cell_type": "markdown",
   "id": "3d6536c8",
   "metadata": {},
   "source": [
    "Example filtering usage (sequential-ANY):¶\n",
    "- Of those cells, find the ones that had a specific cluster ID at some point in their trajectory. "
   ]
  },
  {
   "cell_type": "code",
   "execution_count": null,
   "id": "6d8938e9",
   "metadata": {},
   "outputs": [],
   "source": [
    "# Filter cells that were a part of clusterid == 5 at some point in their trajectory.\n",
    "filters = {\n",
    "  \"label\": (5, 5) \n",
    "}\n",
    "\n",
    "'''\n",
    "To apply sequentially, pass the results of the previous filtering operation to apply_filters()\n",
    "    filt_dr_df\n",
    "    \n",
    "To see influence of new 'any' filter in isolation, use lab_dr_df as input.\n",
    "''' \n",
    "\n",
    "filt_dr_df, filt_list = cp.apply_filters(lab_dr_df,how='any', filter_dict=filters) # 'all' is default behaviour\n",
    "fig = cp.visualize_filtering(lab_dr_df, filt_list, plot_by='umap')"
   ]
  },
  {
   "cell_type": "code",
   "execution_count": null,
   "id": "675a3e49",
   "metadata": {},
   "outputs": [],
   "source": []
  },
  {
   "cell_type": "code",
   "execution_count": null,
   "id": "f6265852",
   "metadata": {},
   "outputs": [],
   "source": [
    "'''\n",
    "Optionally, save the results of this fine-tuning to the shared data folder\n",
    "so the new results can be used by other notebooks.\n",
    "'''\n",
    "\n",
    "if OVERWRITE_DATAFRAMES:\n",
    "    # Save dataframes to shared data folder\n",
    "    tavg_df.to_csv(SAVED_DATA_PATH + 'tavg_df.csv')\n",
    "    comb_df.to_csv(SAVED_DATA_PATH + 'comb_df.csv')\n",
    "    dr_df.to_csv(SAVED_DATA_PATH + 'dr_df.csv')\n",
    "    lab_dr_df.to_csv(SAVED_DATA_PATH + 'lab_dr_df.csv')"
   ]
  },
  {
   "cell_type": "code",
   "execution_count": null,
   "id": "3831810f",
   "metadata": {},
   "outputs": [],
   "source": []
  },
  {
   "cell_type": "code",
   "execution_count": null,
   "id": "691956ee",
   "metadata": {},
   "outputs": [],
   "source": []
  },
  {
   "cell_type": "code",
   "execution_count": null,
   "id": "15f10a0a",
   "metadata": {},
   "outputs": [],
   "source": []
  }
 ],
 "metadata": {
  "kernelspec": {
   "display_name": "Python 3",
   "language": "python",
   "name": "python3"
  },
  "language_info": {
   "codemirror_mode": {
    "name": "ipython",
    "version": 3
   },
   "file_extension": ".py",
   "mimetype": "text/x-python",
   "name": "python",
   "nbconvert_exporter": "python",
   "pygments_lexer": "ipython3",
   "version": "3.6.13"
  }
 },
 "nbformat": 4,
 "nbformat_minor": 5
}
